{
 "cells": [
  {
   "cell_type": "markdown",
   "metadata": {},
   "source": [
    "# ETL Pipeline Preparation\n",
    "Follow the instructions below to help you create your ETL pipeline.\n",
    "### 1. Import libraries and load datasets.\n",
    "- Import Python libraries\n",
    "- Load `messages.csv` into a dataframe and inspect the first few lines.\n",
    "- Load `categories.csv` into a dataframe and inspect the first few lines."
   ]
  },
  {
   "cell_type": "code",
   "execution_count": 1,
   "metadata": {},
   "outputs": [],
   "source": [
    "# import libraries\n",
    "import pandas as pd\n",
    "pd.set_option('display.max_columns', None)\n",
    "import re\n",
    "from sqlalchemy import create_engine\n",
    "import sqlite3\n",
    "import random\n",
    "import nltk\n",
    "from collections import defaultdict\n",
    "import pickle\n",
    "import cleaner\n",
    "import augmenter"
   ]
  },
  {
   "cell_type": "code",
   "execution_count": 2,
   "metadata": {},
   "outputs": [
    {
     "data": {
      "text/html": [
       "<div>\n",
       "<style scoped>\n",
       "    .dataframe tbody tr th:only-of-type {\n",
       "        vertical-align: middle;\n",
       "    }\n",
       "\n",
       "    .dataframe tbody tr th {\n",
       "        vertical-align: top;\n",
       "    }\n",
       "\n",
       "    .dataframe thead th {\n",
       "        text-align: right;\n",
       "    }\n",
       "</style>\n",
       "<table border=\"1\" class=\"dataframe\">\n",
       "  <thead>\n",
       "    <tr style=\"text-align: right;\">\n",
       "      <th></th>\n",
       "      <th>id</th>\n",
       "      <th>message</th>\n",
       "      <th>original</th>\n",
       "      <th>genre</th>\n",
       "    </tr>\n",
       "  </thead>\n",
       "  <tbody>\n",
       "    <tr>\n",
       "      <th>0</th>\n",
       "      <td>2</td>\n",
       "      <td>Weather update - a cold front from Cuba that c...</td>\n",
       "      <td>Un front froid se retrouve sur Cuba ce matin. ...</td>\n",
       "      <td>direct</td>\n",
       "    </tr>\n",
       "    <tr>\n",
       "      <th>1</th>\n",
       "      <td>7</td>\n",
       "      <td>Is the Hurricane over or is it not over</td>\n",
       "      <td>Cyclone nan fini osinon li pa fini</td>\n",
       "      <td>direct</td>\n",
       "    </tr>\n",
       "    <tr>\n",
       "      <th>2</th>\n",
       "      <td>8</td>\n",
       "      <td>Looking for someone but no name</td>\n",
       "      <td>Patnm, di Maryani relem pou li banm nouvel li ...</td>\n",
       "      <td>direct</td>\n",
       "    </tr>\n",
       "    <tr>\n",
       "      <th>3</th>\n",
       "      <td>9</td>\n",
       "      <td>UN reports Leogane 80-90 destroyed. Only Hospi...</td>\n",
       "      <td>UN reports Leogane 80-90 destroyed. Only Hospi...</td>\n",
       "      <td>direct</td>\n",
       "    </tr>\n",
       "    <tr>\n",
       "      <th>4</th>\n",
       "      <td>12</td>\n",
       "      <td>says: west side of Haiti, rest of the country ...</td>\n",
       "      <td>facade ouest d Haiti et le reste du pays aujou...</td>\n",
       "      <td>direct</td>\n",
       "    </tr>\n",
       "  </tbody>\n",
       "</table>\n",
       "</div>"
      ],
      "text/plain": [
       "   id                                            message  \\\n",
       "0   2  Weather update - a cold front from Cuba that c...   \n",
       "1   7            Is the Hurricane over or is it not over   \n",
       "2   8                    Looking for someone but no name   \n",
       "3   9  UN reports Leogane 80-90 destroyed. Only Hospi...   \n",
       "4  12  says: west side of Haiti, rest of the country ...   \n",
       "\n",
       "                                            original   genre  \n",
       "0  Un front froid se retrouve sur Cuba ce matin. ...  direct  \n",
       "1                 Cyclone nan fini osinon li pa fini  direct  \n",
       "2  Patnm, di Maryani relem pou li banm nouvel li ...  direct  \n",
       "3  UN reports Leogane 80-90 destroyed. Only Hospi...  direct  \n",
       "4  facade ouest d Haiti et le reste du pays aujou...  direct  "
      ]
     },
     "execution_count": 2,
     "metadata": {},
     "output_type": "execute_result"
    }
   ],
   "source": [
    "# load messages dataset\n",
    "df_mess = pd.read_csv('messages.csv')\n",
    "df_mess.head()"
   ]
  },
  {
   "cell_type": "code",
   "execution_count": 3,
   "metadata": {},
   "outputs": [
    {
     "data": {
      "text/html": [
       "<div>\n",
       "<style scoped>\n",
       "    .dataframe tbody tr th:only-of-type {\n",
       "        vertical-align: middle;\n",
       "    }\n",
       "\n",
       "    .dataframe tbody tr th {\n",
       "        vertical-align: top;\n",
       "    }\n",
       "\n",
       "    .dataframe thead th {\n",
       "        text-align: right;\n",
       "    }\n",
       "</style>\n",
       "<table border=\"1\" class=\"dataframe\">\n",
       "  <thead>\n",
       "    <tr style=\"text-align: right;\">\n",
       "      <th></th>\n",
       "      <th>id</th>\n",
       "      <th>categories</th>\n",
       "    </tr>\n",
       "  </thead>\n",
       "  <tbody>\n",
       "    <tr>\n",
       "      <th>0</th>\n",
       "      <td>2</td>\n",
       "      <td>related-1;request-0;offer-0;aid_related-0;medi...</td>\n",
       "    </tr>\n",
       "    <tr>\n",
       "      <th>1</th>\n",
       "      <td>7</td>\n",
       "      <td>related-1;request-0;offer-0;aid_related-1;medi...</td>\n",
       "    </tr>\n",
       "    <tr>\n",
       "      <th>2</th>\n",
       "      <td>8</td>\n",
       "      <td>related-1;request-0;offer-0;aid_related-0;medi...</td>\n",
       "    </tr>\n",
       "    <tr>\n",
       "      <th>3</th>\n",
       "      <td>9</td>\n",
       "      <td>related-1;request-1;offer-0;aid_related-1;medi...</td>\n",
       "    </tr>\n",
       "    <tr>\n",
       "      <th>4</th>\n",
       "      <td>12</td>\n",
       "      <td>related-1;request-0;offer-0;aid_related-0;medi...</td>\n",
       "    </tr>\n",
       "  </tbody>\n",
       "</table>\n",
       "</div>"
      ],
      "text/plain": [
       "   id                                         categories\n",
       "0   2  related-1;request-0;offer-0;aid_related-0;medi...\n",
       "1   7  related-1;request-0;offer-0;aid_related-1;medi...\n",
       "2   8  related-1;request-0;offer-0;aid_related-0;medi...\n",
       "3   9  related-1;request-1;offer-0;aid_related-1;medi...\n",
       "4  12  related-1;request-0;offer-0;aid_related-0;medi..."
      ]
     },
     "execution_count": 3,
     "metadata": {},
     "output_type": "execute_result"
    }
   ],
   "source": [
    "# load categories dataset\n",
    "df_cat = pd.read_csv('categories.csv')\n",
    "df_cat.head()"
   ]
  },
  {
   "cell_type": "markdown",
   "metadata": {},
   "source": [
    "### 2. Merge datasets.\n",
    "- Merge the messages and categories datasets using the common id\n",
    "- Assign this combined dataset to `df`, which will be cleaned in the following steps"
   ]
  },
  {
   "cell_type": "code",
   "execution_count": 4,
   "metadata": {},
   "outputs": [
    {
     "data": {
      "text/html": [
       "<div>\n",
       "<style scoped>\n",
       "    .dataframe tbody tr th:only-of-type {\n",
       "        vertical-align: middle;\n",
       "    }\n",
       "\n",
       "    .dataframe tbody tr th {\n",
       "        vertical-align: top;\n",
       "    }\n",
       "\n",
       "    .dataframe thead th {\n",
       "        text-align: right;\n",
       "    }\n",
       "</style>\n",
       "<table border=\"1\" class=\"dataframe\">\n",
       "  <thead>\n",
       "    <tr style=\"text-align: right;\">\n",
       "      <th></th>\n",
       "      <th>id</th>\n",
       "      <th>message</th>\n",
       "      <th>categories</th>\n",
       "    </tr>\n",
       "  </thead>\n",
       "  <tbody>\n",
       "    <tr>\n",
       "      <th>0</th>\n",
       "      <td>2</td>\n",
       "      <td>Weather update - a cold front from Cuba that c...</td>\n",
       "      <td>related-1;request-0;offer-0;aid_related-0;medi...</td>\n",
       "    </tr>\n",
       "    <tr>\n",
       "      <th>1</th>\n",
       "      <td>7</td>\n",
       "      <td>Is the Hurricane over or is it not over</td>\n",
       "      <td>related-1;request-0;offer-0;aid_related-1;medi...</td>\n",
       "    </tr>\n",
       "    <tr>\n",
       "      <th>2</th>\n",
       "      <td>8</td>\n",
       "      <td>Looking for someone but no name</td>\n",
       "      <td>related-1;request-0;offer-0;aid_related-0;medi...</td>\n",
       "    </tr>\n",
       "    <tr>\n",
       "      <th>3</th>\n",
       "      <td>9</td>\n",
       "      <td>UN reports Leogane 80-90 destroyed. Only Hospi...</td>\n",
       "      <td>related-1;request-1;offer-0;aid_related-1;medi...</td>\n",
       "    </tr>\n",
       "    <tr>\n",
       "      <th>4</th>\n",
       "      <td>12</td>\n",
       "      <td>says: west side of Haiti, rest of the country ...</td>\n",
       "      <td>related-1;request-0;offer-0;aid_related-0;medi...</td>\n",
       "    </tr>\n",
       "  </tbody>\n",
       "</table>\n",
       "</div>"
      ],
      "text/plain": [
       "   id                                            message  \\\n",
       "0   2  Weather update - a cold front from Cuba that c...   \n",
       "1   7            Is the Hurricane over or is it not over   \n",
       "2   8                    Looking for someone but no name   \n",
       "3   9  UN reports Leogane 80-90 destroyed. Only Hospi...   \n",
       "4  12  says: west side of Haiti, rest of the country ...   \n",
       "\n",
       "                                          categories  \n",
       "0  related-1;request-0;offer-0;aid_related-0;medi...  \n",
       "1  related-1;request-0;offer-0;aid_related-1;medi...  \n",
       "2  related-1;request-0;offer-0;aid_related-0;medi...  \n",
       "3  related-1;request-1;offer-0;aid_related-1;medi...  \n",
       "4  related-1;request-0;offer-0;aid_related-0;medi...  "
      ]
     },
     "execution_count": 4,
     "metadata": {},
     "output_type": "execute_result"
    }
   ],
   "source": [
    "# merge datasets\n",
    "df = df_mess[['id','message']].merge(df_cat, left_on='id', right_on='id')\n",
    "df.head()"
   ]
  },
  {
   "cell_type": "code",
   "execution_count": 5,
   "metadata": {},
   "outputs": [
    {
     "name": "stdout",
     "output_type": "stream",
     "text": [
      "<class 'pandas.core.frame.DataFrame'>\n",
      "Int64Index: 26386 entries, 0 to 26385\n",
      "Data columns (total 3 columns):\n",
      " #   Column      Non-Null Count  Dtype \n",
      "---  ------      --------------  ----- \n",
      " 0   id          26386 non-null  int64 \n",
      " 1   message     26386 non-null  object\n",
      " 2   categories  26386 non-null  object\n",
      "dtypes: int64(1), object(2)\n",
      "memory usage: 824.6+ KB\n"
     ]
    }
   ],
   "source": [
    "# check for NaN gaps\n",
    "df.info()"
   ]
  },
  {
   "cell_type": "markdown",
   "metadata": {},
   "source": [
    "### 3. Split `categories` into separate category columns.\n",
    "- Split the values in the `categories` column on the `;` character so that each value becomes a separate column. You'll find [this method](https://pandas.pydata.org/pandas-docs/version/0.23/generated/pandas.Series.str.split.html) very helpful! Make sure to set `expand=True`.\n",
    "- Use the first row of categories dataframe to create column names for the categories data.\n",
    "- Rename columns of `categories` with new column names."
   ]
  },
  {
   "cell_type": "code",
   "execution_count": 6,
   "metadata": {},
   "outputs": [
    {
     "name": "stdout",
     "output_type": "stream",
     "text": [
      "['related', 'request', 'offer', 'aid_related', 'medical_help', 'medical_products', 'search_and_rescue', 'security', 'military', 'child_alone', 'water', 'food', 'shelter', 'clothing', 'money', 'missing_people', 'refugees', 'death', 'other_aid', 'infrastructure_related', 'transport', 'buildings', 'electricity', 'tools', 'hospitals', 'shops', 'aid_centers', 'other_infrastructure', 'weather_related', 'floods', 'storm', 'fire', 'earthquake', 'cold', 'other_weather', 'direct_report']\n"
     ]
    }
   ],
   "source": [
    "# determine list of categories\n",
    "row = df_cat.categories[0]\n",
    "category_colnames = [s[:-2] for s in row.split(';')]\n",
    "print(category_colnames)"
   ]
  },
  {
   "cell_type": "markdown",
   "metadata": {},
   "source": [
    "### 4. Convert category values to just numbers 0 or 1.\n",
    "- Iterate through the category columns in df to keep only the last character of each string (the 1 or 0). For example, `related-0` becomes `0`, `related-1` becomes `1`. Convert the string to a numeric value.\n",
    "- You can perform [normal string actions on Pandas Series](https://pandas.pydata.org/pandas-docs/stable/text.html#indexing-with-str), like indexing, by including `.str` after the Series. You may need to first convert the Series to be of type string, which you can do with `astype(str)`."
   ]
  },
  {
   "cell_type": "code",
   "execution_count": 7,
   "metadata": {},
   "outputs": [
    {
     "data": {
      "text/html": [
       "<div>\n",
       "<style scoped>\n",
       "    .dataframe tbody tr th:only-of-type {\n",
       "        vertical-align: middle;\n",
       "    }\n",
       "\n",
       "    .dataframe tbody tr th {\n",
       "        vertical-align: top;\n",
       "    }\n",
       "\n",
       "    .dataframe thead th {\n",
       "        text-align: right;\n",
       "    }\n",
       "</style>\n",
       "<table border=\"1\" class=\"dataframe\">\n",
       "  <thead>\n",
       "    <tr style=\"text-align: right;\">\n",
       "      <th></th>\n",
       "      <th>id</th>\n",
       "      <th>related</th>\n",
       "      <th>request</th>\n",
       "      <th>offer</th>\n",
       "      <th>aid_related</th>\n",
       "      <th>medical_help</th>\n",
       "      <th>medical_products</th>\n",
       "      <th>search_and_rescue</th>\n",
       "      <th>security</th>\n",
       "      <th>military</th>\n",
       "      <th>child_alone</th>\n",
       "      <th>water</th>\n",
       "      <th>food</th>\n",
       "      <th>shelter</th>\n",
       "      <th>clothing</th>\n",
       "      <th>money</th>\n",
       "      <th>missing_people</th>\n",
       "      <th>refugees</th>\n",
       "      <th>death</th>\n",
       "      <th>other_aid</th>\n",
       "      <th>infrastructure_related</th>\n",
       "      <th>transport</th>\n",
       "      <th>buildings</th>\n",
       "      <th>electricity</th>\n",
       "      <th>tools</th>\n",
       "      <th>hospitals</th>\n",
       "      <th>shops</th>\n",
       "      <th>aid_centers</th>\n",
       "      <th>other_infrastructure</th>\n",
       "      <th>weather_related</th>\n",
       "      <th>floods</th>\n",
       "      <th>storm</th>\n",
       "      <th>fire</th>\n",
       "      <th>earthquake</th>\n",
       "      <th>cold</th>\n",
       "      <th>other_weather</th>\n",
       "      <th>direct_report</th>\n",
       "    </tr>\n",
       "  </thead>\n",
       "  <tbody>\n",
       "    <tr>\n",
       "      <th>0</th>\n",
       "      <td>2</td>\n",
       "      <td>1</td>\n",
       "      <td>0</td>\n",
       "      <td>0</td>\n",
       "      <td>0</td>\n",
       "      <td>0</td>\n",
       "      <td>0</td>\n",
       "      <td>0</td>\n",
       "      <td>0</td>\n",
       "      <td>0</td>\n",
       "      <td>0</td>\n",
       "      <td>0</td>\n",
       "      <td>0</td>\n",
       "      <td>0</td>\n",
       "      <td>0</td>\n",
       "      <td>0</td>\n",
       "      <td>0</td>\n",
       "      <td>0</td>\n",
       "      <td>0</td>\n",
       "      <td>0</td>\n",
       "      <td>0</td>\n",
       "      <td>0</td>\n",
       "      <td>0</td>\n",
       "      <td>0</td>\n",
       "      <td>0</td>\n",
       "      <td>0</td>\n",
       "      <td>0</td>\n",
       "      <td>0</td>\n",
       "      <td>0</td>\n",
       "      <td>0</td>\n",
       "      <td>0</td>\n",
       "      <td>0</td>\n",
       "      <td>0</td>\n",
       "      <td>0</td>\n",
       "      <td>0</td>\n",
       "      <td>0</td>\n",
       "      <td>0</td>\n",
       "    </tr>\n",
       "    <tr>\n",
       "      <th>1</th>\n",
       "      <td>7</td>\n",
       "      <td>1</td>\n",
       "      <td>0</td>\n",
       "      <td>0</td>\n",
       "      <td>1</td>\n",
       "      <td>0</td>\n",
       "      <td>0</td>\n",
       "      <td>0</td>\n",
       "      <td>0</td>\n",
       "      <td>0</td>\n",
       "      <td>0</td>\n",
       "      <td>0</td>\n",
       "      <td>0</td>\n",
       "      <td>0</td>\n",
       "      <td>0</td>\n",
       "      <td>0</td>\n",
       "      <td>0</td>\n",
       "      <td>0</td>\n",
       "      <td>0</td>\n",
       "      <td>1</td>\n",
       "      <td>0</td>\n",
       "      <td>0</td>\n",
       "      <td>0</td>\n",
       "      <td>0</td>\n",
       "      <td>0</td>\n",
       "      <td>0</td>\n",
       "      <td>0</td>\n",
       "      <td>0</td>\n",
       "      <td>0</td>\n",
       "      <td>1</td>\n",
       "      <td>0</td>\n",
       "      <td>1</td>\n",
       "      <td>0</td>\n",
       "      <td>0</td>\n",
       "      <td>0</td>\n",
       "      <td>0</td>\n",
       "      <td>0</td>\n",
       "    </tr>\n",
       "    <tr>\n",
       "      <th>2</th>\n",
       "      <td>8</td>\n",
       "      <td>1</td>\n",
       "      <td>0</td>\n",
       "      <td>0</td>\n",
       "      <td>0</td>\n",
       "      <td>0</td>\n",
       "      <td>0</td>\n",
       "      <td>0</td>\n",
       "      <td>0</td>\n",
       "      <td>0</td>\n",
       "      <td>0</td>\n",
       "      <td>0</td>\n",
       "      <td>0</td>\n",
       "      <td>0</td>\n",
       "      <td>0</td>\n",
       "      <td>0</td>\n",
       "      <td>0</td>\n",
       "      <td>0</td>\n",
       "      <td>0</td>\n",
       "      <td>0</td>\n",
       "      <td>0</td>\n",
       "      <td>0</td>\n",
       "      <td>0</td>\n",
       "      <td>0</td>\n",
       "      <td>0</td>\n",
       "      <td>0</td>\n",
       "      <td>0</td>\n",
       "      <td>0</td>\n",
       "      <td>0</td>\n",
       "      <td>0</td>\n",
       "      <td>0</td>\n",
       "      <td>0</td>\n",
       "      <td>0</td>\n",
       "      <td>0</td>\n",
       "      <td>0</td>\n",
       "      <td>0</td>\n",
       "      <td>0</td>\n",
       "    </tr>\n",
       "    <tr>\n",
       "      <th>3</th>\n",
       "      <td>9</td>\n",
       "      <td>1</td>\n",
       "      <td>1</td>\n",
       "      <td>0</td>\n",
       "      <td>1</td>\n",
       "      <td>0</td>\n",
       "      <td>1</td>\n",
       "      <td>0</td>\n",
       "      <td>0</td>\n",
       "      <td>0</td>\n",
       "      <td>0</td>\n",
       "      <td>0</td>\n",
       "      <td>0</td>\n",
       "      <td>0</td>\n",
       "      <td>0</td>\n",
       "      <td>0</td>\n",
       "      <td>0</td>\n",
       "      <td>0</td>\n",
       "      <td>0</td>\n",
       "      <td>1</td>\n",
       "      <td>1</td>\n",
       "      <td>0</td>\n",
       "      <td>1</td>\n",
       "      <td>0</td>\n",
       "      <td>0</td>\n",
       "      <td>1</td>\n",
       "      <td>0</td>\n",
       "      <td>0</td>\n",
       "      <td>0</td>\n",
       "      <td>0</td>\n",
       "      <td>0</td>\n",
       "      <td>0</td>\n",
       "      <td>0</td>\n",
       "      <td>0</td>\n",
       "      <td>0</td>\n",
       "      <td>0</td>\n",
       "      <td>0</td>\n",
       "    </tr>\n",
       "    <tr>\n",
       "      <th>4</th>\n",
       "      <td>12</td>\n",
       "      <td>1</td>\n",
       "      <td>0</td>\n",
       "      <td>0</td>\n",
       "      <td>0</td>\n",
       "      <td>0</td>\n",
       "      <td>0</td>\n",
       "      <td>0</td>\n",
       "      <td>0</td>\n",
       "      <td>0</td>\n",
       "      <td>0</td>\n",
       "      <td>0</td>\n",
       "      <td>0</td>\n",
       "      <td>0</td>\n",
       "      <td>0</td>\n",
       "      <td>0</td>\n",
       "      <td>0</td>\n",
       "      <td>0</td>\n",
       "      <td>0</td>\n",
       "      <td>0</td>\n",
       "      <td>0</td>\n",
       "      <td>0</td>\n",
       "      <td>0</td>\n",
       "      <td>0</td>\n",
       "      <td>0</td>\n",
       "      <td>0</td>\n",
       "      <td>0</td>\n",
       "      <td>0</td>\n",
       "      <td>0</td>\n",
       "      <td>0</td>\n",
       "      <td>0</td>\n",
       "      <td>0</td>\n",
       "      <td>0</td>\n",
       "      <td>0</td>\n",
       "      <td>0</td>\n",
       "      <td>0</td>\n",
       "      <td>0</td>\n",
       "    </tr>\n",
       "  </tbody>\n",
       "</table>\n",
       "</div>"
      ],
      "text/plain": [
       "   id  related  request  offer  aid_related  medical_help  medical_products  \\\n",
       "0   2        1        0      0            0             0                 0   \n",
       "1   7        1        0      0            1             0                 0   \n",
       "2   8        1        0      0            0             0                 0   \n",
       "3   9        1        1      0            1             0                 1   \n",
       "4  12        1        0      0            0             0                 0   \n",
       "\n",
       "   search_and_rescue  security  military  child_alone  water  food  shelter  \\\n",
       "0                  0         0         0            0      0     0        0   \n",
       "1                  0         0         0            0      0     0        0   \n",
       "2                  0         0         0            0      0     0        0   \n",
       "3                  0         0         0            0      0     0        0   \n",
       "4                  0         0         0            0      0     0        0   \n",
       "\n",
       "   clothing  money  missing_people  refugees  death  other_aid  \\\n",
       "0         0      0               0         0      0          0   \n",
       "1         0      0               0         0      0          1   \n",
       "2         0      0               0         0      0          0   \n",
       "3         0      0               0         0      0          1   \n",
       "4         0      0               0         0      0          0   \n",
       "\n",
       "   infrastructure_related  transport  buildings  electricity  tools  \\\n",
       "0                       0          0          0            0      0   \n",
       "1                       0          0          0            0      0   \n",
       "2                       0          0          0            0      0   \n",
       "3                       1          0          1            0      0   \n",
       "4                       0          0          0            0      0   \n",
       "\n",
       "   hospitals  shops  aid_centers  other_infrastructure  weather_related  \\\n",
       "0          0      0            0                     0                0   \n",
       "1          0      0            0                     0                1   \n",
       "2          0      0            0                     0                0   \n",
       "3          1      0            0                     0                0   \n",
       "4          0      0            0                     0                0   \n",
       "\n",
       "   floods  storm  fire  earthquake  cold  other_weather  direct_report  \n",
       "0       0      0     0           0     0              0              0  \n",
       "1       0      1     0           0     0              0              0  \n",
       "2       0      0     0           0     0              0              0  \n",
       "3       0      0     0           0     0              0              0  \n",
       "4       0      0     0           0     0              0              0  "
      ]
     },
     "execution_count": 7,
     "metadata": {},
     "output_type": "execute_result"
    }
   ],
   "source": [
    "# build dataframe of categorys with integer values\n",
    "df_form = pd.DataFrame()\n",
    "for i, nrow in df.iterrows():\n",
    "    df_form[nrow['id']] = [int(s[-1]) for s in df.categories[i].split(';')]\n",
    "df_form = df_form.transpose().reset_index().rename(columns={'index':'id'})\n",
    "df_form.columns = ['id'] + category_colnames\n",
    "df_form.head()"
   ]
  },
  {
   "cell_type": "code",
   "execution_count": 8,
   "metadata": {},
   "outputs": [
    {
     "name": "stdout",
     "output_type": "stream",
     "text": [
      "<class 'pandas.core.frame.DataFrame'>\n",
      "RangeIndex: 26180 entries, 0 to 26179\n",
      "Data columns (total 37 columns):\n",
      " #   Column                  Non-Null Count  Dtype\n",
      "---  ------                  --------------  -----\n",
      " 0   id                      26180 non-null  int64\n",
      " 1   related                 26180 non-null  int64\n",
      " 2   request                 26180 non-null  int64\n",
      " 3   offer                   26180 non-null  int64\n",
      " 4   aid_related             26180 non-null  int64\n",
      " 5   medical_help            26180 non-null  int64\n",
      " 6   medical_products        26180 non-null  int64\n",
      " 7   search_and_rescue       26180 non-null  int64\n",
      " 8   security                26180 non-null  int64\n",
      " 9   military                26180 non-null  int64\n",
      " 10  child_alone             26180 non-null  int64\n",
      " 11  water                   26180 non-null  int64\n",
      " 12  food                    26180 non-null  int64\n",
      " 13  shelter                 26180 non-null  int64\n",
      " 14  clothing                26180 non-null  int64\n",
      " 15  money                   26180 non-null  int64\n",
      " 16  missing_people          26180 non-null  int64\n",
      " 17  refugees                26180 non-null  int64\n",
      " 18  death                   26180 non-null  int64\n",
      " 19  other_aid               26180 non-null  int64\n",
      " 20  infrastructure_related  26180 non-null  int64\n",
      " 21  transport               26180 non-null  int64\n",
      " 22  buildings               26180 non-null  int64\n",
      " 23  electricity             26180 non-null  int64\n",
      " 24  tools                   26180 non-null  int64\n",
      " 25  hospitals               26180 non-null  int64\n",
      " 26  shops                   26180 non-null  int64\n",
      " 27  aid_centers             26180 non-null  int64\n",
      " 28  other_infrastructure    26180 non-null  int64\n",
      " 29  weather_related         26180 non-null  int64\n",
      " 30  floods                  26180 non-null  int64\n",
      " 31  storm                   26180 non-null  int64\n",
      " 32  fire                    26180 non-null  int64\n",
      " 33  earthquake              26180 non-null  int64\n",
      " 34  cold                    26180 non-null  int64\n",
      " 35  other_weather           26180 non-null  int64\n",
      " 36  direct_report           26180 non-null  int64\n",
      "dtypes: int64(37)\n",
      "memory usage: 7.4 MB\n"
     ]
    }
   ],
   "source": [
    "# check for NaN's\n",
    "df_form.info()"
   ]
  },
  {
   "cell_type": "code",
   "execution_count": 9,
   "metadata": {},
   "outputs": [
    {
     "name": "stdout",
     "output_type": "stream",
     "text": [
      "related [1 0 2]\n",
      "request [0 1]\n",
      "offer [0 1]\n",
      "aid_related [0 1]\n",
      "medical_help [0 1]\n",
      "medical_products [0 1]\n",
      "search_and_rescue [0 1]\n",
      "security [0 1]\n",
      "military [0 1]\n",
      "child_alone [0]\n",
      "water [0 1]\n",
      "food [0 1]\n",
      "shelter [0 1]\n",
      "clothing [0 1]\n",
      "money [0 1]\n",
      "missing_people [0 1]\n",
      "refugees [0 1]\n",
      "death [0 1]\n",
      "other_aid [0 1]\n",
      "infrastructure_related [0 1]\n",
      "transport [0 1]\n",
      "buildings [0 1]\n",
      "electricity [0 1]\n",
      "tools [0 1]\n",
      "hospitals [0 1]\n",
      "shops [0 1]\n",
      "aid_centers [0 1]\n",
      "other_infrastructure [0 1]\n",
      "weather_related [0 1]\n",
      "floods [0 1]\n",
      "storm [0 1]\n",
      "fire [0 1]\n",
      "earthquake [0 1]\n",
      "cold [0 1]\n",
      "other_weather [0 1]\n",
      "direct_report [0 1]\n"
     ]
    }
   ],
   "source": [
    "# Check if Binary\n",
    "for c in category_colnames:\n",
    "    print(c, df_form[c].unique())"
   ]
  },
  {
   "cell_type": "markdown",
   "metadata": {},
   "source": [
    "#### Note: \"related\" has three classes and \"child_alone\" has one class."
   ]
  },
  {
   "cell_type": "markdown",
   "metadata": {},
   "source": [
    "### 5. Replace `categories` column in `df` with new category columns.\n",
    "- Drop the categories column from the df dataframe since it is no longer needed.\n",
    "- Concatenate df and categories data frames."
   ]
  },
  {
   "cell_type": "code",
   "execution_count": 10,
   "metadata": {},
   "outputs": [
    {
     "data": {
      "text/html": [
       "<div>\n",
       "<style scoped>\n",
       "    .dataframe tbody tr th:only-of-type {\n",
       "        vertical-align: middle;\n",
       "    }\n",
       "\n",
       "    .dataframe tbody tr th {\n",
       "        vertical-align: top;\n",
       "    }\n",
       "\n",
       "    .dataframe thead th {\n",
       "        text-align: right;\n",
       "    }\n",
       "</style>\n",
       "<table border=\"1\" class=\"dataframe\">\n",
       "  <thead>\n",
       "    <tr style=\"text-align: right;\">\n",
       "      <th></th>\n",
       "      <th>id</th>\n",
       "      <th>message</th>\n",
       "      <th>related</th>\n",
       "      <th>request</th>\n",
       "      <th>offer</th>\n",
       "      <th>aid_related</th>\n",
       "      <th>medical_help</th>\n",
       "      <th>medical_products</th>\n",
       "      <th>search_and_rescue</th>\n",
       "      <th>security</th>\n",
       "      <th>military</th>\n",
       "      <th>child_alone</th>\n",
       "      <th>water</th>\n",
       "      <th>food</th>\n",
       "      <th>shelter</th>\n",
       "      <th>clothing</th>\n",
       "      <th>money</th>\n",
       "      <th>missing_people</th>\n",
       "      <th>refugees</th>\n",
       "      <th>death</th>\n",
       "      <th>other_aid</th>\n",
       "      <th>infrastructure_related</th>\n",
       "      <th>transport</th>\n",
       "      <th>buildings</th>\n",
       "      <th>electricity</th>\n",
       "      <th>tools</th>\n",
       "      <th>hospitals</th>\n",
       "      <th>shops</th>\n",
       "      <th>aid_centers</th>\n",
       "      <th>other_infrastructure</th>\n",
       "      <th>weather_related</th>\n",
       "      <th>floods</th>\n",
       "      <th>storm</th>\n",
       "      <th>fire</th>\n",
       "      <th>earthquake</th>\n",
       "      <th>cold</th>\n",
       "      <th>other_weather</th>\n",
       "      <th>direct_report</th>\n",
       "    </tr>\n",
       "  </thead>\n",
       "  <tbody>\n",
       "    <tr>\n",
       "      <th>0</th>\n",
       "      <td>2</td>\n",
       "      <td>Weather update - a cold front from Cuba that c...</td>\n",
       "      <td>1</td>\n",
       "      <td>0</td>\n",
       "      <td>0</td>\n",
       "      <td>0</td>\n",
       "      <td>0</td>\n",
       "      <td>0</td>\n",
       "      <td>0</td>\n",
       "      <td>0</td>\n",
       "      <td>0</td>\n",
       "      <td>0</td>\n",
       "      <td>0</td>\n",
       "      <td>0</td>\n",
       "      <td>0</td>\n",
       "      <td>0</td>\n",
       "      <td>0</td>\n",
       "      <td>0</td>\n",
       "      <td>0</td>\n",
       "      <td>0</td>\n",
       "      <td>0</td>\n",
       "      <td>0</td>\n",
       "      <td>0</td>\n",
       "      <td>0</td>\n",
       "      <td>0</td>\n",
       "      <td>0</td>\n",
       "      <td>0</td>\n",
       "      <td>0</td>\n",
       "      <td>0</td>\n",
       "      <td>0</td>\n",
       "      <td>0</td>\n",
       "      <td>0</td>\n",
       "      <td>0</td>\n",
       "      <td>0</td>\n",
       "      <td>0</td>\n",
       "      <td>0</td>\n",
       "      <td>0</td>\n",
       "      <td>0</td>\n",
       "    </tr>\n",
       "    <tr>\n",
       "      <th>1</th>\n",
       "      <td>7</td>\n",
       "      <td>Is the Hurricane over or is it not over</td>\n",
       "      <td>1</td>\n",
       "      <td>0</td>\n",
       "      <td>0</td>\n",
       "      <td>1</td>\n",
       "      <td>0</td>\n",
       "      <td>0</td>\n",
       "      <td>0</td>\n",
       "      <td>0</td>\n",
       "      <td>0</td>\n",
       "      <td>0</td>\n",
       "      <td>0</td>\n",
       "      <td>0</td>\n",
       "      <td>0</td>\n",
       "      <td>0</td>\n",
       "      <td>0</td>\n",
       "      <td>0</td>\n",
       "      <td>0</td>\n",
       "      <td>0</td>\n",
       "      <td>1</td>\n",
       "      <td>0</td>\n",
       "      <td>0</td>\n",
       "      <td>0</td>\n",
       "      <td>0</td>\n",
       "      <td>0</td>\n",
       "      <td>0</td>\n",
       "      <td>0</td>\n",
       "      <td>0</td>\n",
       "      <td>0</td>\n",
       "      <td>1</td>\n",
       "      <td>0</td>\n",
       "      <td>1</td>\n",
       "      <td>0</td>\n",
       "      <td>0</td>\n",
       "      <td>0</td>\n",
       "      <td>0</td>\n",
       "      <td>0</td>\n",
       "    </tr>\n",
       "    <tr>\n",
       "      <th>2</th>\n",
       "      <td>8</td>\n",
       "      <td>Looking for someone but no name</td>\n",
       "      <td>1</td>\n",
       "      <td>0</td>\n",
       "      <td>0</td>\n",
       "      <td>0</td>\n",
       "      <td>0</td>\n",
       "      <td>0</td>\n",
       "      <td>0</td>\n",
       "      <td>0</td>\n",
       "      <td>0</td>\n",
       "      <td>0</td>\n",
       "      <td>0</td>\n",
       "      <td>0</td>\n",
       "      <td>0</td>\n",
       "      <td>0</td>\n",
       "      <td>0</td>\n",
       "      <td>0</td>\n",
       "      <td>0</td>\n",
       "      <td>0</td>\n",
       "      <td>0</td>\n",
       "      <td>0</td>\n",
       "      <td>0</td>\n",
       "      <td>0</td>\n",
       "      <td>0</td>\n",
       "      <td>0</td>\n",
       "      <td>0</td>\n",
       "      <td>0</td>\n",
       "      <td>0</td>\n",
       "      <td>0</td>\n",
       "      <td>0</td>\n",
       "      <td>0</td>\n",
       "      <td>0</td>\n",
       "      <td>0</td>\n",
       "      <td>0</td>\n",
       "      <td>0</td>\n",
       "      <td>0</td>\n",
       "      <td>0</td>\n",
       "    </tr>\n",
       "    <tr>\n",
       "      <th>3</th>\n",
       "      <td>9</td>\n",
       "      <td>UN reports Leogane 80-90 destroyed. Only Hospi...</td>\n",
       "      <td>1</td>\n",
       "      <td>1</td>\n",
       "      <td>0</td>\n",
       "      <td>1</td>\n",
       "      <td>0</td>\n",
       "      <td>1</td>\n",
       "      <td>0</td>\n",
       "      <td>0</td>\n",
       "      <td>0</td>\n",
       "      <td>0</td>\n",
       "      <td>0</td>\n",
       "      <td>0</td>\n",
       "      <td>0</td>\n",
       "      <td>0</td>\n",
       "      <td>0</td>\n",
       "      <td>0</td>\n",
       "      <td>0</td>\n",
       "      <td>0</td>\n",
       "      <td>1</td>\n",
       "      <td>1</td>\n",
       "      <td>0</td>\n",
       "      <td>1</td>\n",
       "      <td>0</td>\n",
       "      <td>0</td>\n",
       "      <td>1</td>\n",
       "      <td>0</td>\n",
       "      <td>0</td>\n",
       "      <td>0</td>\n",
       "      <td>0</td>\n",
       "      <td>0</td>\n",
       "      <td>0</td>\n",
       "      <td>0</td>\n",
       "      <td>0</td>\n",
       "      <td>0</td>\n",
       "      <td>0</td>\n",
       "      <td>0</td>\n",
       "    </tr>\n",
       "    <tr>\n",
       "      <th>4</th>\n",
       "      <td>12</td>\n",
       "      <td>says: west side of Haiti, rest of the country ...</td>\n",
       "      <td>1</td>\n",
       "      <td>0</td>\n",
       "      <td>0</td>\n",
       "      <td>0</td>\n",
       "      <td>0</td>\n",
       "      <td>0</td>\n",
       "      <td>0</td>\n",
       "      <td>0</td>\n",
       "      <td>0</td>\n",
       "      <td>0</td>\n",
       "      <td>0</td>\n",
       "      <td>0</td>\n",
       "      <td>0</td>\n",
       "      <td>0</td>\n",
       "      <td>0</td>\n",
       "      <td>0</td>\n",
       "      <td>0</td>\n",
       "      <td>0</td>\n",
       "      <td>0</td>\n",
       "      <td>0</td>\n",
       "      <td>0</td>\n",
       "      <td>0</td>\n",
       "      <td>0</td>\n",
       "      <td>0</td>\n",
       "      <td>0</td>\n",
       "      <td>0</td>\n",
       "      <td>0</td>\n",
       "      <td>0</td>\n",
       "      <td>0</td>\n",
       "      <td>0</td>\n",
       "      <td>0</td>\n",
       "      <td>0</td>\n",
       "      <td>0</td>\n",
       "      <td>0</td>\n",
       "      <td>0</td>\n",
       "      <td>0</td>\n",
       "    </tr>\n",
       "  </tbody>\n",
       "</table>\n",
       "</div>"
      ],
      "text/plain": [
       "   id                                            message  related  request  \\\n",
       "0   2  Weather update - a cold front from Cuba that c...        1        0   \n",
       "1   7            Is the Hurricane over or is it not over        1        0   \n",
       "2   8                    Looking for someone but no name        1        0   \n",
       "3   9  UN reports Leogane 80-90 destroyed. Only Hospi...        1        1   \n",
       "4  12  says: west side of Haiti, rest of the country ...        1        0   \n",
       "\n",
       "   offer  aid_related  medical_help  medical_products  search_and_rescue  \\\n",
       "0      0            0             0                 0                  0   \n",
       "1      0            1             0                 0                  0   \n",
       "2      0            0             0                 0                  0   \n",
       "3      0            1             0                 1                  0   \n",
       "4      0            0             0                 0                  0   \n",
       "\n",
       "   security  military  child_alone  water  food  shelter  clothing  money  \\\n",
       "0         0         0            0      0     0        0         0      0   \n",
       "1         0         0            0      0     0        0         0      0   \n",
       "2         0         0            0      0     0        0         0      0   \n",
       "3         0         0            0      0     0        0         0      0   \n",
       "4         0         0            0      0     0        0         0      0   \n",
       "\n",
       "   missing_people  refugees  death  other_aid  infrastructure_related  \\\n",
       "0               0         0      0          0                       0   \n",
       "1               0         0      0          1                       0   \n",
       "2               0         0      0          0                       0   \n",
       "3               0         0      0          1                       1   \n",
       "4               0         0      0          0                       0   \n",
       "\n",
       "   transport  buildings  electricity  tools  hospitals  shops  aid_centers  \\\n",
       "0          0          0            0      0          0      0            0   \n",
       "1          0          0            0      0          0      0            0   \n",
       "2          0          0            0      0          0      0            0   \n",
       "3          0          1            0      0          1      0            0   \n",
       "4          0          0            0      0          0      0            0   \n",
       "\n",
       "   other_infrastructure  weather_related  floods  storm  fire  earthquake  \\\n",
       "0                     0                0       0      0     0           0   \n",
       "1                     0                1       0      1     0           0   \n",
       "2                     0                0       0      0     0           0   \n",
       "3                     0                0       0      0     0           0   \n",
       "4                     0                0       0      0     0           0   \n",
       "\n",
       "   cold  other_weather  direct_report  \n",
       "0     0              0              0  \n",
       "1     0              0              0  \n",
       "2     0              0              0  \n",
       "3     0              0              0  \n",
       "4     0              0              0  "
      ]
     },
     "execution_count": 10,
     "metadata": {},
     "output_type": "execute_result"
    }
   ],
   "source": [
    "# drop the original categories column from `df`\n",
    "df = df.merge(df_form, left_on='id', right_on='id')\n",
    "df = df.drop(['categories'], axis=1)\n",
    "df.head()"
   ]
  },
  {
   "cell_type": "markdown",
   "metadata": {},
   "source": [
    "### 6. Remove duplicates.\n",
    "- Check how many duplicates are in this dataset.\n",
    "- Drop the duplicates.\n",
    "- Confirm duplicates were removed."
   ]
  },
  {
   "cell_type": "code",
   "execution_count": 11,
   "metadata": {},
   "outputs": [
    {
     "data": {
      "text/plain": [
       "206"
      ]
     },
     "execution_count": 11,
     "metadata": {},
     "output_type": "execute_result"
    }
   ],
   "source": [
    "# check number of duplicates\n",
    "df.duplicated(keep='first').sum()"
   ]
  },
  {
   "cell_type": "code",
   "execution_count": 12,
   "metadata": {},
   "outputs": [],
   "source": [
    "# drop duplicates\n",
    "df = df.drop_duplicates()"
   ]
  },
  {
   "cell_type": "code",
   "execution_count": 13,
   "metadata": {},
   "outputs": [
    {
     "data": {
      "text/plain": [
       "0"
      ]
     },
     "execution_count": 13,
     "metadata": {},
     "output_type": "execute_result"
    }
   ],
   "source": [
    "# check number of duplicates\n",
    "df.duplicated(keep='first').sum()"
   ]
  },
  {
   "cell_type": "markdown",
   "metadata": {},
   "source": [
    "### 7. Fix the Category Faults"
   ]
  },
  {
   "cell_type": "code",
   "execution_count": 14,
   "metadata": {},
   "outputs": [
    {
     "name": "stdout",
     "output_type": "stream",
     "text": [
      "6518     Midi Estimene:rue Lambert Prolongee and rue Me...\n",
      "25385    Mali's former President Amadou Toumani Touré -...\n",
      "7235     annot ni batiman dada cheri se pwason ni ou ni...\n",
      "20192    crop, loss of hydro-electric generating capaci...\n",
      "7743                   NOTES: this message is not complete\n",
      "7448                     Wesantyahoo.fr.Pepayisenyahoo.fr \n",
      "5107     mwen ta renmen gen enfmasyon sou siklyn nan pe...\n",
      "10299    RT Fleegerian_Akin RT ShanCali Earthquake in c...\n",
      "12396    TAUSEEF KHAN S/O AKBAR DIN MIANWALI TEH ESSA K...\n",
      "12365                    .  /    khairo Disctt. Jacobabad.\n",
      "Name: message, dtype: object\n"
     ]
    }
   ],
   "source": [
    "# sample some 2 entries\n",
    "print(df[df['related']==2]['message'].sample(10))"
   ]
  },
  {
   "cell_type": "code",
   "execution_count": 15,
   "metadata": {},
   "outputs": [
    {
     "name": "stdout",
     "output_type": "stream",
     "text": [
      "18777    A vaccine for the Influenza A(H1N1) virus will...\n",
      "1481                         sports information. football.\n",
      "21920    We must develop new ways of thinking more holi...\n",
      "26336    Meanwhile, Agritrade [ http://agritrade.cta.in...\n",
      "11586    RT odrigoBNO: Chile President Bachelet tells r...\n",
      "19014    That included tightening control over social n...\n",
      "9488           I don't understand what you are saying me. \n",
      "8889     If my heart in your heart it will be one heart...\n",
      "20682    The democratic party, meanwhile, is more popul...\n",
      "1014     I'm the former chief secretary of O. N. A. I. .. \n",
      "Name: message, dtype: object\n"
     ]
    }
   ],
   "source": [
    "# sample some legit 0 entries\n",
    "print(df[df['related']==0]['message'].sample(10))"
   ]
  },
  {
   "cell_type": "code",
   "execution_count": 16,
   "metadata": {},
   "outputs": [
    {
     "name": "stdout",
     "output_type": "stream",
     "text": [
      "request                   0\n",
      "offer                     0\n",
      "aid_related               0\n",
      "medical_help              0\n",
      "medical_products          0\n",
      "search_and_rescue         0\n",
      "security                  0\n",
      "military                  0\n",
      "child_alone               0\n",
      "water                     0\n",
      "food                      0\n",
      "shelter                   0\n",
      "clothing                  0\n",
      "money                     0\n",
      "missing_people            0\n",
      "refugees                  0\n",
      "death                     0\n",
      "other_aid                 0\n",
      "infrastructure_related    0\n",
      "transport                 0\n",
      "buildings                 0\n",
      "electricity               0\n",
      "tools                     0\n",
      "hospitals                 0\n",
      "shops                     0\n",
      "aid_centers               0\n",
      "other_infrastructure      0\n",
      "weather_related           0\n",
      "floods                    0\n",
      "storm                     0\n",
      "fire                      0\n",
      "earthquake                0\n",
      "cold                      0\n",
      "other_weather             0\n",
      "direct_report             0\n",
      "dtype: int64\n"
     ]
    }
   ],
   "source": [
    "# confirm unrelated other classifications for related 2's\n",
    "print(df[df['related']==2][category_colnames[1:]].sum(axis=0))"
   ]
  },
  {
   "cell_type": "code",
   "execution_count": 17,
   "metadata": {},
   "outputs": [
    {
     "data": {
      "text/plain": [
       "(6119, 187, 26180)"
      ]
     },
     "execution_count": 17,
     "metadata": {},
     "output_type": "execute_result"
    }
   ],
   "source": [
    "# confirm there's many samples of related 0's\n",
    "len(df[df['related']==0]), len(df[df['related']==2]), len(df)"
   ]
  },
  {
   "cell_type": "code",
   "execution_count": 18,
   "metadata": {},
   "outputs": [
    {
     "data": {
      "text/plain": [
       "25993"
      ]
     },
     "execution_count": 18,
     "metadata": {},
     "output_type": "execute_result"
    }
   ],
   "source": [
    "# drop the related 2's as likely unrelated and likely illegit\n",
    "df.drop(df[df['related']==2].index, inplace = True)\n",
    "len(df)"
   ]
  },
  {
   "cell_type": "code",
   "execution_count": 19,
   "metadata": {},
   "outputs": [
    {
     "data": {
      "text/plain": [
       "0"
      ]
     },
     "execution_count": 19,
     "metadata": {},
     "output_type": "execute_result"
    }
   ],
   "source": [
    "# confirm no child_alone entries\n",
    "len(df[df['child_alone']==1])"
   ]
  },
  {
   "cell_type": "code",
   "execution_count": 20,
   "metadata": {},
   "outputs": [],
   "source": [
    "# Split off Validation data for Augmenting purposes\n",
    "\n",
    "# start with some related zero's\n",
    "dfv = df[df['related']==0].sample(36).copy()\n",
    "\n",
    "idx_list = dfv.index.tolist()\n",
    "# add in some one's for each target category\n",
    "for cat in category_colnames:\n",
    "    # manage child alone has no entries\n",
    "    if cat != 'child_alone':\n",
    "        df_slice = df[df[cat]==1].copy()\n",
    "        samp = df_slice.sample()\n",
    "        while samp.index[0] in dfv.index:\n",
    "            samp = df_slice.sample() \n",
    "        dfv = pd.concat([dfv, samp], axis=0)\n",
    "    else:\n",
    "        pass\n",
    "    \n",
    "# independant train and validation data \n",
    "dft = df[~df.index.isin(dfv.index)].copy()"
   ]
  },
  {
   "cell_type": "code",
   "execution_count": 23,
   "metadata": {},
   "outputs": [],
   "source": [
    "# Simulate child alone Messages\n",
    "df_aug = augmenter.BuildCAs(dft)\n",
    "\n",
    "# sample a 'child alone' entry for validation\n",
    "samp = df_aug.sample()\n",
    "dfv = pd.concat([dfv, samp], axis=0)\n",
    "\n",
    "# Simulate low count class messages\n",
    "dfa = augmenter.BuildSims(df_aug, dft)"
   ]
  },
  {
   "cell_type": "markdown",
   "metadata": {},
   "source": [
    "### 8. Pre-clean the message strings  \n",
    "This uses the imported spell checking cleaner utility"
   ]
  },
  {
   "cell_type": "code",
   "execution_count": 24,
   "metadata": {},
   "outputs": [
    {
     "name": "stdout",
     "output_type": "stream",
     "text": [
      "3210     that a why i need help because i have nothing ...\n",
      "23441    ten thousand chlorine tablets to purify water ...\n",
      "20707    six medical doctors participated in overseas t...\n",
      "0        weather update a cold front from cuba that cou...\n",
      "4478     i think before school opened we have ask god t...\n",
      "24194    the challenge for governments with far assista...\n",
      "4571     someone died in kano saida next to a christ ro...\n",
      "8656     good morning united nations today is five days...\n",
      "24420    cereals pulses sugar and highly nutritious cor...\n",
      "4467     i watch with my eyes while i suffer that the w...\n",
      "9189                  i want them give us tent in st louis\n",
      "13626    according to the report the main hazards that ...\n",
      "20081    it was littered with debris tree trunks muddy ...\n",
      "22221    post harvest grain losses are assumed at numbe...\n",
      "22601    she says she has added ground peanuts for prot...\n",
      "13230    another snow storm in new york help path sokot...\n",
      "13092    every time i eat an animal shaped chicken nugg...\n",
      "12802    lew ska beach please you are petrified of bein...\n",
      "894      truncated probably we need water shelter food ...\n",
      "7400     tell of the civil officers to get converted an...\n",
      "24498    it urged member states to contribute to the in...\n",
      "24061    the newscast punctuated by sharp bursts of dea...\n",
      "17773    in response to the deteriorating conditions of...\n",
      "20135    operating from a base camp established at band...\n",
      "6335     we need help at tie res number since the earth...\n",
      "Name: message, dtype: object\n"
     ]
    }
   ],
   "source": [
    "# apply text cleaner\n",
    "df['message'] = df.message.apply(cleaner.CleanText)\n",
    "print(df['message'].sample(25))"
   ]
  },
  {
   "cell_type": "code",
   "execution_count": 25,
   "metadata": {},
   "outputs": [
    {
     "data": {
      "text/plain": [
       "count    25993.000000\n",
       "mean       142.876428\n",
       "std        207.040570\n",
       "min          0.000000\n",
       "25%         73.000000\n",
       "50%        122.000000\n",
       "75%        177.000000\n",
       "max      10753.000000\n",
       "Name: message, dtype: float64"
      ]
     },
     "execution_count": 25,
     "metadata": {},
     "output_type": "execute_result"
    }
   ],
   "source": [
    "# related message character = count stats\n",
    "df['message'].str.len().describe()"
   ]
  },
  {
   "cell_type": "code",
   "execution_count": 27,
   "metadata": {},
   "outputs": [],
   "source": [
    "def Truncate(text, length=501):\n",
    "    '''\n",
    "    input string and trim length\n",
    "    strip and rejoin\n",
    "    trim to nearest word if too long\n",
    "    return truncated cleaned string\n",
    "    '''\n",
    "    strip = text.rstrip()\n",
    "    if len(strip) < length:\n",
    "        clean = ' '.join(strip.split())                  \n",
    "    else:                \n",
    "        tokens = strip[:length + 1].split()\n",
    "        clean = ' '.join(tokens[0:-1])\n",
    "                         \n",
    "    return clean"
   ]
  },
  {
   "cell_type": "code",
   "execution_count": 28,
   "metadata": {},
   "outputs": [
    {
     "data": {
      "text/plain": [
       "count    25993.000000\n",
       "mean       134.902551\n",
       "std         80.391795\n",
       "min          0.000000\n",
       "25%         73.000000\n",
       "50%        122.000000\n",
       "75%        177.000000\n",
       "max        500.000000\n",
       "Name: message, dtype: float64"
      ]
     },
     "execution_count": 28,
     "metadata": {},
     "output_type": "execute_result"
    }
   ],
   "source": [
    "# Apply long message truncation and verify\n",
    "df['message'] = df['message'].apply(Truncate)\n",
    "df['message'].str.len().describe()"
   ]
  },
  {
   "cell_type": "code",
   "execution_count": 29,
   "metadata": {},
   "outputs": [
    {
     "data": {
      "text/plain": [
       "25944"
      ]
     },
     "execution_count": 29,
     "metadata": {},
     "output_type": "execute_result"
    }
   ],
   "source": [
    "### drop rows with tiny messages of questionable utility\n",
    "df.drop(df[df['message'].str.len()<=27].index, inplace = True)\n",
    "len(df)"
   ]
  },
  {
   "cell_type": "code",
   "execution_count": 30,
   "metadata": {},
   "outputs": [
    {
     "data": {
      "text/plain": [
       "count    25944.000000\n",
       "mean       135.116636\n",
       "std         80.315613\n",
       "min         28.000000\n",
       "25%         73.000000\n",
       "50%        122.000000\n",
       "75%        177.000000\n",
       "max        500.000000\n",
       "Name: message, dtype: float64"
      ]
     },
     "execution_count": 30,
     "metadata": {},
     "output_type": "execute_result"
    }
   ],
   "source": [
    "df['message'].str.len().describe()"
   ]
  },
  {
   "cell_type": "markdown",
   "metadata": {},
   "source": [
    "### 9. Save the clean dataset into an sqlite database.\n",
    "You can do this with pandas [`to_sql` method](https://pandas.pydata.org/pandas-docs/stable/generated/pandas.DataFrame.to_sql.html) combined with the SQLAlchemy library. Remember to import SQLAlchemy's `create_engine` in the first cell of this notebook to use it below."
   ]
  },
  {
   "cell_type": "code",
   "execution_count": 31,
   "metadata": {},
   "outputs": [],
   "source": [
    "# combine original and augmented dataframes\n",
    "df_all = pd.concat([df, dfa], axis = 0)\n",
    "\n",
    "# add flags for tracking purposes\n",
    "df_all['val'] = df_all.index.isin(dfv.index)\n",
    "df_all['sim'] = df_all.index.isin(dfa.index)"
   ]
  },
  {
   "cell_type": "code",
   "execution_count": 32,
   "metadata": {},
   "outputs": [],
   "source": [
    "engine = create_engine('sqlite:///DisasterResponse_r8.db')\n",
    "df_all.to_sql('MessCatRaw', engine, index=False)"
   ]
  },
  {
   "cell_type": "code",
   "execution_count": 33,
   "metadata": {},
   "outputs": [
    {
     "name": "stdout",
     "output_type": "stream",
     "text": [
      "<class 'pandas.core.frame.DataFrame'>\n",
      "Int64Index: 43944 entries, 0 to 17999\n",
      "Data columns (total 40 columns):\n",
      " #   Column                  Non-Null Count  Dtype \n",
      "---  ------                  --------------  ----- \n",
      " 0   id                      43944 non-null  int64 \n",
      " 1   message                 43944 non-null  object\n",
      " 2   related                 43944 non-null  int64 \n",
      " 3   request                 43944 non-null  int64 \n",
      " 4   offer                   43944 non-null  int64 \n",
      " 5   aid_related             43944 non-null  int64 \n",
      " 6   medical_help            43944 non-null  int64 \n",
      " 7   medical_products        43944 non-null  int64 \n",
      " 8   search_and_rescue       43944 non-null  int64 \n",
      " 9   security                43944 non-null  int64 \n",
      " 10  military                43944 non-null  int64 \n",
      " 11  child_alone             43944 non-null  int64 \n",
      " 12  water                   43944 non-null  int64 \n",
      " 13  food                    43944 non-null  int64 \n",
      " 14  shelter                 43944 non-null  int64 \n",
      " 15  clothing                43944 non-null  int64 \n",
      " 16  money                   43944 non-null  int64 \n",
      " 17  missing_people          43944 non-null  int64 \n",
      " 18  refugees                43944 non-null  int64 \n",
      " 19  death                   43944 non-null  int64 \n",
      " 20  other_aid               43944 non-null  int64 \n",
      " 21  infrastructure_related  43944 non-null  int64 \n",
      " 22  transport               43944 non-null  int64 \n",
      " 23  buildings               43944 non-null  int64 \n",
      " 24  electricity             43944 non-null  int64 \n",
      " 25  tools                   43944 non-null  int64 \n",
      " 26  hospitals               43944 non-null  int64 \n",
      " 27  shops                   43944 non-null  int64 \n",
      " 28  aid_centers             43944 non-null  int64 \n",
      " 29  other_infrastructure    43944 non-null  int64 \n",
      " 30  weather_related         43944 non-null  int64 \n",
      " 31  floods                  43944 non-null  int64 \n",
      " 32  storm                   43944 non-null  int64 \n",
      " 33  fire                    43944 non-null  int64 \n",
      " 34  earthquake              43944 non-null  int64 \n",
      " 35  cold                    43944 non-null  int64 \n",
      " 36  other_weather           43944 non-null  int64 \n",
      " 37  direct_report           43944 non-null  int64 \n",
      " 38  val                     43944 non-null  bool  \n",
      " 39  sim                     43944 non-null  bool  \n",
      "dtypes: bool(2), int64(37), object(1)\n",
      "memory usage: 13.2+ MB\n"
     ]
    }
   ],
   "source": [
    "df_all.info()"
   ]
  },
  {
   "cell_type": "markdown",
   "metadata": {},
   "source": [
    "### 10. Use this notebook to complete `etl_pipeline.py`\n",
    "Use the template file attached in the Resources folder to write a script that runs the steps above to create a database based on new datasets specified by the user. Alternatively, you can complete `etl_pipeline.py` in the classroom on the `Project Workspace IDE` coming later."
   ]
  },
  {
   "cell_type": "code",
   "execution_count": 39,
   "metadata": {},
   "outputs": [],
   "source": [
    "import etl_pipeline"
   ]
  },
  {
   "cell_type": "code",
   "execution_count": 40,
   "metadata": {},
   "outputs": [
    {
     "name": "stdout",
     "output_type": "stream",
     "text": [
      "Loading data...\n",
      "    MESSAGES: messages.csv\n",
      "    CATEGORIES: categories.csv\n",
      "Formatting data...\n",
      "Simulating data...\n",
      "Cleaning data...\n",
      "Trimming data...\n",
      "Joining data...\n",
      "Saving data...\n",
      "    DATABASE: DisasterResponse_r9.db\n",
      "Cleaned data saved to database!\n"
     ]
    }
   ],
   "source": [
    "!python etl_pipeline.py messages.csv categories.csv DisasterResponse_r9.db"
   ]
  },
  {
   "cell_type": "code",
   "execution_count": 41,
   "metadata": {},
   "outputs": [],
   "source": [
    "conn = sqlite3.connect('DisasterResponse_r9.db')"
   ]
  },
  {
   "cell_type": "code",
   "execution_count": 42,
   "metadata": {},
   "outputs": [],
   "source": [
    "df_read = pd.read_sql('SELECT * FROM MessCatRaw', con = conn)"
   ]
  },
  {
   "cell_type": "code",
   "execution_count": 43,
   "metadata": {},
   "outputs": [
    {
     "name": "stdout",
     "output_type": "stream",
     "text": [
      "<class 'pandas.core.frame.DataFrame'>\n",
      "RangeIndex: 43944 entries, 0 to 43943\n",
      "Data columns (total 40 columns):\n",
      " #   Column                  Non-Null Count  Dtype \n",
      "---  ------                  --------------  ----- \n",
      " 0   id                      43944 non-null  int64 \n",
      " 1   message                 43944 non-null  object\n",
      " 2   related                 43944 non-null  int64 \n",
      " 3   request                 43944 non-null  int64 \n",
      " 4   offer                   43944 non-null  int64 \n",
      " 5   aid_related             43944 non-null  int64 \n",
      " 6   medical_help            43944 non-null  int64 \n",
      " 7   medical_products        43944 non-null  int64 \n",
      " 8   search_and_rescue       43944 non-null  int64 \n",
      " 9   security                43944 non-null  int64 \n",
      " 10  military                43944 non-null  int64 \n",
      " 11  child_alone             43944 non-null  int64 \n",
      " 12  water                   43944 non-null  int64 \n",
      " 13  food                    43944 non-null  int64 \n",
      " 14  shelter                 43944 non-null  int64 \n",
      " 15  clothing                43944 non-null  int64 \n",
      " 16  money                   43944 non-null  int64 \n",
      " 17  missing_people          43944 non-null  int64 \n",
      " 18  refugees                43944 non-null  int64 \n",
      " 19  death                   43944 non-null  int64 \n",
      " 20  other_aid               43944 non-null  int64 \n",
      " 21  infrastructure_related  43944 non-null  int64 \n",
      " 22  transport               43944 non-null  int64 \n",
      " 23  buildings               43944 non-null  int64 \n",
      " 24  electricity             43944 non-null  int64 \n",
      " 25  tools                   43944 non-null  int64 \n",
      " 26  hospitals               43944 non-null  int64 \n",
      " 27  shops                   43944 non-null  int64 \n",
      " 28  aid_centers             43944 non-null  int64 \n",
      " 29  other_infrastructure    43944 non-null  int64 \n",
      " 30  weather_related         43944 non-null  int64 \n",
      " 31  floods                  43944 non-null  int64 \n",
      " 32  storm                   43944 non-null  int64 \n",
      " 33  fire                    43944 non-null  int64 \n",
      " 34  earthquake              43944 non-null  int64 \n",
      " 35  cold                    43944 non-null  int64 \n",
      " 36  other_weather           43944 non-null  int64 \n",
      " 37  direct_report           43944 non-null  int64 \n",
      " 38  val                     43944 non-null  int64 \n",
      " 39  sim                     43944 non-null  int64 \n",
      "dtypes: int64(39), object(1)\n",
      "memory usage: 13.4+ MB\n"
     ]
    }
   ],
   "source": [
    "df_read.info()"
   ]
  },
  {
   "cell_type": "code",
   "execution_count": 44,
   "metadata": {},
   "outputs": [
    {
     "data": {
      "text/plain": [
       "Index(['id', 'message', 'related', 'request', 'offer', 'aid_related',\n",
       "       'medical_help', 'medical_products', 'search_and_rescue', 'security',\n",
       "       'military', 'child_alone', 'water', 'food', 'shelter', 'clothing',\n",
       "       'money', 'missing_people', 'refugees', 'death', 'other_aid',\n",
       "       'infrastructure_related', 'transport', 'buildings', 'electricity',\n",
       "       'tools', 'hospitals', 'shops', 'aid_centers', 'other_infrastructure',\n",
       "       'weather_related', 'floods', 'storm', 'fire', 'earthquake', 'cold',\n",
       "       'other_weather', 'direct_report', 'val', 'sim'],\n",
       "      dtype='object')"
      ]
     },
     "execution_count": 44,
     "metadata": {},
     "output_type": "execute_result"
    }
   ],
   "source": [
    "df_read.columns"
   ]
  },
  {
   "cell_type": "code",
   "execution_count": null,
   "metadata": {},
   "outputs": [],
   "source": []
  }
 ],
 "metadata": {
  "kernelspec": {
   "display_name": "Python 3",
   "language": "python",
   "name": "python3"
  },
  "language_info": {
   "codemirror_mode": {
    "name": "ipython",
    "version": 3
   },
   "file_extension": ".py",
   "mimetype": "text/x-python",
   "name": "python",
   "nbconvert_exporter": "python",
   "pygments_lexer": "ipython3",
   "version": "3.8.5"
  }
 },
 "nbformat": 4,
 "nbformat_minor": 2
}
