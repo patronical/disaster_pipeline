{
 "cells": [
  {
   "cell_type": "markdown",
   "metadata": {},
   "source": [
    "### Import Model and Classify Text"
   ]
  },
  {
   "cell_type": "code",
   "execution_count": 1,
   "metadata": {},
   "outputs": [],
   "source": [
    "import json\n",
    "import plotly\n",
    "import pandas as pd\n",
    "import re\n",
    "import nltk\n",
    "from nltk.tokenize import word_tokenize, sent_tokenize\n",
    "from nltk.corpus import stopwords\n",
    "from nltk.stem import WordNetLemmatizer\n",
    "from sklearn.base import BaseEstimator, TransformerMixin\n",
    "import pickle\n",
    "import joblib\n",
    "from spellhelper import Spellhelper\n",
    "import cleaner\n",
    "\n",
    "#from flask import Flask\n",
    "#from flask import render_template, request, jsonify\n",
    "#from sklearn.externals import joblib\n",
    "#from sqlalchemy import create_engine"
   ]
  },
  {
   "cell_type": "code",
   "execution_count": 2,
   "metadata": {},
   "outputs": [],
   "source": [
    "def cleanmess(text):\n",
    "    '''\n",
    "    import message\n",
    "    clean the message\n",
    "    return the cleaned message\n",
    "    '''\n",
    "    sents = sent_tokenize(text)\n",
    "    all_sents = []\n",
    "    for sent in sents:\n",
    "        clean = cleaner.CleanText(sent) + '.'\n",
    "        all_sents.append(clean)\n",
    "\n",
    "    return ' '.join(all_sents)"
   ]
  },
  {
   "cell_type": "code",
   "execution_count": 3,
   "metadata": {},
   "outputs": [],
   "source": [
    "def tokenize(text):\n",
    "    '''\n",
    "    input text string\n",
    "    clean and lower case characters of string\n",
    "    tokenize text\n",
    "    lematize and remove stop words\n",
    "    add bigrams\n",
    "    return cleaned tokens and bigrams\n",
    "    '''\n",
    "    stop_words = stopwords.words(\"english\") + ['.']\n",
    "    lemmatizer = WordNetLemmatizer()\n",
    "    # normalize\n",
    "    s = re.sub(r\"[^a-zA-Z0-9]\", \" \", text.lower())\n",
    "    # tokenize\n",
    "    tokens = word_tokenize(s)\n",
    "    # stemming\n",
    "    tokens = [lemmatizer.lemmatize(word) for word in tokens if word not in stop_words]\n",
    "    # add bi-grams\n",
    "    bigrams = [a + ' ' + b for a,b in list(nltk.bigrams(tokens))]\n",
    "    return tokens + bigrams"
   ]
  },
  {
   "cell_type": "code",
   "execution_count": 4,
   "metadata": {},
   "outputs": [],
   "source": [
    "def PreProcess(text):\n",
    "    '''\n",
    "    input text string\n",
    "    tokenize\n",
    "    check if token in filtered frequencies\n",
    "    return list of filtered tokens\n",
    "    '''\n",
    "    tokens = tokenize(text)\n",
    "    return [t for t in tokens if t in dtf]"
   ]
  },
  {
   "cell_type": "code",
   "execution_count": 5,
   "metadata": {},
   "outputs": [],
   "source": [
    "# load model\n",
    "global dtf\n",
    "filename = 'Logregmod18.pkl'\n",
    "with open(filename,'rb') as handle:\n",
    "    model, dtf = pickle.load(handle)"
   ]
  },
  {
   "cell_type": "code",
   "execution_count": 6,
   "metadata": {},
   "outputs": [],
   "source": [
    "# initialize cleaner\n",
    "fd_file = 'freq_dict_20210122203414.txt'\n",
    "lu_file = 'lookup_dict_20210122203414.pkl'\n",
    "cleaner.speller = Spellhelper(fd_file)\n",
    "with open(lu_file, 'rb') as handle:\n",
    "    cleaner.corr_dict = pickle.load(handle)"
   ]
  },
  {
   "cell_type": "code",
   "execution_count": 7,
   "metadata": {},
   "outputs": [],
   "source": [
    "def ProcessText(text):\n",
    "    '''\n",
    "    import text\n",
    "    clean\n",
    "    tokenize\n",
    "    predict\n",
    "    print results along the way\n",
    "    '''\n",
    "    targets = ['related', 'request', 'offer', 'aid_related', \n",
    "           'medical_help', 'medical_products', 'search_and_rescue', \n",
    "           'security', 'military', 'child_alone', 'water', 'food', \n",
    "           'shelter', 'clothing', 'money', 'missing_people', \n",
    "           'refugees', 'death', 'other_aid', 'infrastructure_related', \n",
    "           'transport', 'buildings', 'electricity', 'tools', 'hospitals', \n",
    "           'shops', 'aid_centers', 'other_infrastructure', 'weather_related', \n",
    "           'floods', 'storm', 'fire', 'earthquake', 'cold', 'other_weather', \n",
    "           'direct_report']\n",
    "    \n",
    "    clean = cleanmess(text)\n",
    "    print(clean)\n",
    "    print()\n",
    "    toks = tokenize(clean)\n",
    "    print(toks)\n",
    "    print()\n",
    "    classification_labels = model.predict([clean])[0]\n",
    "    classification_results = dict(zip(targets, classification_labels))\n",
    "    print(classification_results)\n",
    "    print()"
   ]
  },
  {
   "cell_type": "markdown",
   "metadata": {},
   "source": [
    "#### hurricane"
   ]
  },
  {
   "cell_type": "code",
   "execution_count": 8,
   "metadata": {},
   "outputs": [],
   "source": [
    "test1 = 'Please be aware that there is an emminent hurricane sandy. '+\\\n",
    "        'Please buckle down the hatches and seeek shelter123soooner than later. '+\\\n",
    "        'If at all possible, please evacuate to a safer location. '"
   ]
  },
  {
   "cell_type": "code",
   "execution_count": 9,
   "metadata": {},
   "outputs": [
    {
     "name": "stdout",
     "output_type": "stream",
     "text": [
      "please be aware that there is an imminent hurricane sandy. please buckle down the hatches and seek number shelter sooner than later. if at all possible please evacuate to a safer location.\n",
      "\n",
      "['please', 'aware', 'imminent', 'hurricane', 'sandy', 'please', 'buckle', 'hatch', 'seek', 'number', 'shelter', 'sooner', 'later', 'possible', 'please', 'evacuate', 'safer', 'location', 'please aware', 'aware imminent', 'imminent hurricane', 'hurricane sandy', 'sandy please', 'please buckle', 'buckle hatch', 'hatch seek', 'seek number', 'number shelter', 'shelter sooner', 'sooner later', 'later possible', 'possible please', 'please evacuate', 'evacuate safer', 'safer location']\n",
      "\n",
      "{'related': 1, 'request': 0, 'offer': 0, 'aid_related': 1, 'medical_help': 0, 'medical_products': 0, 'search_and_rescue': 0, 'security': 0, 'military': 0, 'child_alone': 0, 'water': 0, 'food': 0, 'shelter': 1, 'clothing': 0, 'money': 0, 'missing_people': 0, 'refugees': 0, 'death': 0, 'other_aid': 0, 'infrastructure_related': 0, 'transport': 0, 'buildings': 0, 'electricity': 0, 'tools': 0, 'hospitals': 0, 'shops': 0, 'aid_centers': 0, 'other_infrastructure': 0, 'weather_related': 1, 'floods': 0, 'storm': 1, 'fire': 0, 'earthquake': 0, 'cold': 0, 'other_weather': 0, 'direct_report': 1}\n",
      "\n"
     ]
    }
   ],
   "source": [
    "ProcessText(test1)"
   ]
  },
  {
   "cell_type": "markdown",
   "metadata": {},
   "source": [
    "#### hospital"
   ]
  },
  {
   "cell_type": "code",
   "execution_count": 10,
   "metadata": {},
   "outputs": [],
   "source": [
    "test2 = 'Our hospital is running at capacity and short on medical supplies. '+\\\n",
    "        'Clean drinking water, prepackaged food, medicine, drugs, antibiotics, anything. '+\\\n",
    "        'Please charge the materials and delivery to the helpful government in charge. '"
   ]
  },
  {
   "cell_type": "code",
   "execution_count": 11,
   "metadata": {},
   "outputs": [
    {
     "name": "stdout",
     "output_type": "stream",
     "text": [
      "our hospital is running at capacity and short on medical supplies. clean drinking water prepackaged food medicine drugs antibiotics anything. please charge the materials and delivery to the helpful government in charge.\n",
      "\n",
      "['hospital', 'running', 'capacity', 'short', 'medical', 'supply', 'clean', 'drinking', 'water', 'prepackaged', 'food', 'medicine', 'drug', 'antibiotic', 'anything', 'please', 'charge', 'material', 'delivery', 'helpful', 'government', 'charge', 'hospital running', 'running capacity', 'capacity short', 'short medical', 'medical supply', 'supply clean', 'clean drinking', 'drinking water', 'water prepackaged', 'prepackaged food', 'food medicine', 'medicine drug', 'drug antibiotic', 'antibiotic anything', 'anything please', 'please charge', 'charge material', 'material delivery', 'delivery helpful', 'helpful government', 'government charge']\n",
      "\n",
      "{'related': 1, 'request': 1, 'offer': 0, 'aid_related': 1, 'medical_help': 1, 'medical_products': 1, 'search_and_rescue': 0, 'security': 0, 'military': 0, 'child_alone': 0, 'water': 1, 'food': 1, 'shelter': 0, 'clothing': 0, 'money': 0, 'missing_people': 0, 'refugees': 0, 'death': 0, 'other_aid': 0, 'infrastructure_related': 0, 'transport': 0, 'buildings': 0, 'electricity': 0, 'tools': 0, 'hospitals': 1, 'shops': 0, 'aid_centers': 0, 'other_infrastructure': 0, 'weather_related': 0, 'floods': 0, 'storm': 0, 'fire': 0, 'earthquake': 0, 'cold': 0, 'other_weather': 0, 'direct_report': 0}\n",
      "\n"
     ]
    }
   ],
   "source": [
    "ProcessText(test2)"
   ]
  },
  {
   "cell_type": "markdown",
   "metadata": {},
   "source": [
    "#### lost kid"
   ]
  },
  {
   "cell_type": "code",
   "execution_count": 12,
   "metadata": {},
   "outputs": [],
   "source": [
    "test3 = 'A brown hair boy alone lost his parents and cannot find his way home. '+\\\n",
    "        'He is nine, short and skinny with red shorts and freckles. '+\\\n",
    "        'Please put us in touch with his parents so they can recover their lost kid. '"
   ]
  },
  {
   "cell_type": "code",
   "execution_count": 13,
   "metadata": {},
   "outputs": [
    {
     "name": "stdout",
     "output_type": "stream",
     "text": [
      "a brown hair boy alone lost his parents and can not find his way home. he is nine short and skinny with red shorts and freckles. please put us in touch with his parents so they can recover their lost kid.\n",
      "\n",
      "['brown', 'hair', 'boy', 'alone', 'lost', 'parent', 'find', 'way', 'home', 'nine', 'short', 'skinny', 'red', 'short', 'freckle', 'please', 'put', 'u', 'touch', 'parent', 'recover', 'lost', 'kid', 'brown hair', 'hair boy', 'boy alone', 'alone lost', 'lost parent', 'parent find', 'find way', 'way home', 'home nine', 'nine short', 'short skinny', 'skinny red', 'red short', 'short freckle', 'freckle please', 'please put', 'put u', 'u touch', 'touch parent', 'parent recover', 'recover lost', 'lost kid']\n",
      "\n",
      "{'related': 1, 'request': 1, 'offer': 0, 'aid_related': 1, 'medical_help': 0, 'medical_products': 0, 'search_and_rescue': 0, 'security': 0, 'military': 0, 'child_alone': 1, 'water': 0, 'food': 0, 'shelter': 0, 'clothing': 0, 'money': 0, 'missing_people': 0, 'refugees': 0, 'death': 0, 'other_aid': 0, 'infrastructure_related': 0, 'transport': 0, 'buildings': 0, 'electricity': 0, 'tools': 0, 'hospitals': 0, 'shops': 0, 'aid_centers': 0, 'other_infrastructure': 0, 'weather_related': 0, 'floods': 0, 'storm': 0, 'fire': 0, 'earthquake': 0, 'cold': 0, 'other_weather': 0, 'direct_report': 1}\n",
      "\n"
     ]
    }
   ],
   "source": [
    "ProcessText(test3)"
   ]
  },
  {
   "cell_type": "markdown",
   "metadata": {},
   "source": [
    "#### search and rescue"
   ]
  },
  {
   "cell_type": "code",
   "execution_count": 14,
   "metadata": {},
   "outputs": [],
   "source": [
    "test4 = 'A person hiking alone fell off of the side of the trail and fell down. '+\\\n",
    "        'Please send search and rescue to free her from the rocks down the cliff. '+\\\n",
    "        'It is cold outside and she is not warm enough to stay over night. '"
   ]
  },
  {
   "cell_type": "code",
   "execution_count": 15,
   "metadata": {},
   "outputs": [
    {
     "name": "stdout",
     "output_type": "stream",
     "text": [
      "a person hiking alone fell off of the side of the trail and fell down. please send search and rescue to free her from the rocks down the cliff. it is cold outside and she is not warm enough to stay over night.\n",
      "\n",
      "['person', 'hiking', 'alone', 'fell', 'side', 'trail', 'fell', 'please', 'send', 'search', 'rescue', 'free', 'rock', 'cliff', 'cold', 'outside', 'warm', 'enough', 'stay', 'night', 'person hiking', 'hiking alone', 'alone fell', 'fell side', 'side trail', 'trail fell', 'fell please', 'please send', 'send search', 'search rescue', 'rescue free', 'free rock', 'rock cliff', 'cliff cold', 'cold outside', 'outside warm', 'warm enough', 'enough stay', 'stay night']\n",
      "\n",
      "{'related': 1, 'request': 0, 'offer': 0, 'aid_related': 1, 'medical_help': 0, 'medical_products': 0, 'search_and_rescue': 1, 'security': 0, 'military': 0, 'child_alone': 0, 'water': 0, 'food': 0, 'shelter': 0, 'clothing': 0, 'money': 0, 'missing_people': 0, 'refugees': 0, 'death': 0, 'other_aid': 0, 'infrastructure_related': 0, 'transport': 0, 'buildings': 0, 'electricity': 0, 'tools': 0, 'hospitals': 0, 'shops': 0, 'aid_centers': 0, 'other_infrastructure': 0, 'weather_related': 1, 'floods': 0, 'storm': 0, 'fire': 0, 'earthquake': 0, 'cold': 0, 'other_weather': 1, 'direct_report': 0}\n",
      "\n"
     ]
    }
   ],
   "source": [
    "ProcessText(test4)"
   ]
  },
  {
   "cell_type": "markdown",
   "metadata": {},
   "source": [
    "#### homeless"
   ]
  },
  {
   "cell_type": "code",
   "execution_count": 16,
   "metadata": {},
   "outputs": [],
   "source": [
    "test5 = 'Many people here have been displaced by the big bad forest fire and live in tents as homeless. '+\\\n",
    "        'They were sent by firemen to camp out next to the road and need help to recover from this disaster. '+\\\n",
    "        'Please send aid to help get them back on their feet before the winter storms set in. '"
   ]
  },
  {
   "cell_type": "code",
   "execution_count": 17,
   "metadata": {},
   "outputs": [
    {
     "name": "stdout",
     "output_type": "stream",
     "text": [
      "many people here have been displaced by the big bad forest fire and live in tents as homeless. they were sent by firemen to camp out next to the road and need help to recover from this disaster. please send aid to help get them back on their feet before the winter storms set in.\n",
      "\n",
      "['many', 'people', 'displaced', 'big', 'bad', 'forest', 'fire', 'live', 'tent', 'homeless', 'sent', 'fireman', 'camp', 'next', 'road', 'need', 'help', 'recover', 'disaster', 'please', 'send', 'aid', 'help', 'get', 'back', 'foot', 'winter', 'storm', 'set', 'many people', 'people displaced', 'displaced big', 'big bad', 'bad forest', 'forest fire', 'fire live', 'live tent', 'tent homeless', 'homeless sent', 'sent fireman', 'fireman camp', 'camp next', 'next road', 'road need', 'need help', 'help recover', 'recover disaster', 'disaster please', 'please send', 'send aid', 'aid help', 'help get', 'get back', 'back foot', 'foot winter', 'winter storm', 'storm set']\n",
      "\n",
      "{'related': 1, 'request': 1, 'offer': 0, 'aid_related': 1, 'medical_help': 1, 'medical_products': 0, 'search_and_rescue': 0, 'security': 0, 'military': 0, 'child_alone': 0, 'water': 0, 'food': 0, 'shelter': 1, 'clothing': 0, 'money': 0, 'missing_people': 0, 'refugees': 1, 'death': 0, 'other_aid': 1, 'infrastructure_related': 1, 'transport': 1, 'buildings': 1, 'electricity': 0, 'tools': 0, 'hospitals': 0, 'shops': 0, 'aid_centers': 0, 'other_infrastructure': 0, 'weather_related': 1, 'floods': 0, 'storm': 1, 'fire': 1, 'earthquake': 0, 'cold': 0, 'other_weather': 0, 'direct_report': 1}\n",
      "\n"
     ]
    }
   ],
   "source": [
    "ProcessText(test5)"
   ]
  },
  {
   "cell_type": "markdown",
   "metadata": {},
   "source": [
    "#### death"
   ]
  },
  {
   "cell_type": "code",
   "execution_count": 18,
   "metadata": {},
   "outputs": [],
   "source": [
    "test6 = 'The protestors have raided the capital and are violently yelling, vandalizing, and pushing doors down. '+\\\n",
    "        'Shots have been fired killing an American and several people were electrocuted dead by stun weapons. '+\\\n",
    "        'In LA they have lifted the cremation smoke ban to burn the build up of dead people lying about everywhere.'"
   ]
  },
  {
   "cell_type": "code",
   "execution_count": 19,
   "metadata": {},
   "outputs": [
    {
     "name": "stdout",
     "output_type": "stream",
     "text": [
      "the protestors have raided the capital and are violently yelling vandalizing and pushing doors down. shots have been fired killing an american and several people were electrocuted dead by stun weapons. in la they have lifted the cremation smoke ban to burn the build up of dead people lying about everywhere.\n",
      "\n",
      "['protestors', 'raided', 'capital', 'violently', 'yelling', 'vandalizing', 'pushing', 'door', 'shot', 'fired', 'killing', 'american', 'several', 'people', 'electrocuted', 'dead', 'stun', 'weapon', 'la', 'lifted', 'cremation', 'smoke', 'ban', 'burn', 'build', 'dead', 'people', 'lying', 'everywhere', 'protestors raided', 'raided capital', 'capital violently', 'violently yelling', 'yelling vandalizing', 'vandalizing pushing', 'pushing door', 'door shot', 'shot fired', 'fired killing', 'killing american', 'american several', 'several people', 'people electrocuted', 'electrocuted dead', 'dead stun', 'stun weapon', 'weapon la', 'la lifted', 'lifted cremation', 'cremation smoke', 'smoke ban', 'ban burn', 'burn build', 'build dead', 'dead people', 'people lying', 'lying everywhere']\n",
      "\n",
      "{'related': 1, 'request': 0, 'offer': 0, 'aid_related': 1, 'medical_help': 0, 'medical_products': 0, 'search_and_rescue': 0, 'security': 0, 'military': 0, 'child_alone': 0, 'water': 0, 'food': 0, 'shelter': 0, 'clothing': 0, 'money': 0, 'missing_people': 0, 'refugees': 0, 'death': 1, 'other_aid': 0, 'infrastructure_related': 0, 'transport': 0, 'buildings': 0, 'electricity': 0, 'tools': 0, 'hospitals': 0, 'shops': 0, 'aid_centers': 0, 'other_infrastructure': 0, 'weather_related': 0, 'floods': 0, 'storm': 0, 'fire': 0, 'earthquake': 0, 'cold': 0, 'other_weather': 0, 'direct_report': 0}\n",
      "\n"
     ]
    }
   ],
   "source": [
    "ProcessText(test6)"
   ]
  },
  {
   "cell_type": "markdown",
   "metadata": {},
   "source": [
    "#### electricity"
   ]
  },
  {
   "cell_type": "code",
   "execution_count": 20,
   "metadata": {},
   "outputs": [],
   "source": [
    "test7 = 'The high winds blew so hard that trees fell down onto power lines and now we have no electricity. '+\\\n",
    "        'This has been going on for several days and people are running emergency generators to get by. '+\\\n",
    "        'The problem with PG&E seems they have not reinvested their profits into maintaining infrastructure.'"
   ]
  },
  {
   "cell_type": "code",
   "execution_count": 21,
   "metadata": {},
   "outputs": [
    {
     "name": "stdout",
     "output_type": "stream",
     "text": [
      "the high winds blew so hard that trees fell down onto power lines and now we have no electricity. this has been going on for several days and people are running emergency generators to get by. the problem with pm a seems they have not reinvested their profits into maintaining infrastructure.\n",
      "\n",
      "['high', 'wind', 'blew', 'hard', 'tree', 'fell', 'onto', 'power', 'line', 'electricity', 'going', 'several', 'day', 'people', 'running', 'emergency', 'generator', 'get', 'problem', 'pm', 'seems', 'reinvested', 'profit', 'maintaining', 'infrastructure', 'high wind', 'wind blew', 'blew hard', 'hard tree', 'tree fell', 'fell onto', 'onto power', 'power line', 'line electricity', 'electricity going', 'going several', 'several day', 'day people', 'people running', 'running emergency', 'emergency generator', 'generator get', 'get problem', 'problem pm', 'pm seems', 'seems reinvested', 'reinvested profit', 'profit maintaining', 'maintaining infrastructure']\n",
      "\n",
      "{'related': 1, 'request': 1, 'offer': 0, 'aid_related': 1, 'medical_help': 0, 'medical_products': 0, 'search_and_rescue': 0, 'security': 0, 'military': 0, 'child_alone': 0, 'water': 0, 'food': 0, 'shelter': 0, 'clothing': 0, 'money': 0, 'missing_people': 0, 'refugees': 0, 'death': 0, 'other_aid': 0, 'infrastructure_related': 0, 'transport': 0, 'buildings': 0, 'electricity': 1, 'tools': 0, 'hospitals': 0, 'shops': 0, 'aid_centers': 0, 'other_infrastructure': 1, 'weather_related': 0, 'floods': 0, 'storm': 0, 'fire': 0, 'earthquake': 0, 'cold': 0, 'other_weather': 0, 'direct_report': 0}\n",
      "\n"
     ]
    }
   ],
   "source": [
    "ProcessText(test7)"
   ]
  },
  {
   "cell_type": "markdown",
   "metadata": {},
   "source": [
    "#### mud slide"
   ]
  },
  {
   "cell_type": "code",
   "execution_count": 22,
   "metadata": {},
   "outputs": [],
   "source": [
    "test8 = 'Mega storm has dropped two years of rain in the last 12 hours and after our fire now we have floods. '+\\\n",
    "        'Floods and mudslides are tearing through neighborhoods and the cleanup crew dumped the mud on the beach. '+\\\n",
    "        'Because there was human remains in the mud they dumped now the beach is off limits to go to for a year.'"
   ]
  },
  {
   "cell_type": "code",
   "execution_count": 23,
   "metadata": {},
   "outputs": [
    {
     "name": "stdout",
     "output_type": "stream",
     "text": [
      "mega storm has dropped two years of rain in the last number hours and after our fire now we have floods. floods and mudslides are tearing through or hoods and the cleanup crew dumped the mud on the beach. because there was human remains in the mud they dumped now the beach is off limits to go to for a year.\n",
      "\n",
      "['mega', 'storm', 'dropped', 'two', 'year', 'rain', 'last', 'number', 'hour', 'fire', 'flood', 'flood', 'mudslide', 'tearing', 'hood', 'cleanup', 'crew', 'dumped', 'mud', 'beach', 'human', 'remains', 'mud', 'dumped', 'beach', 'limit', 'go', 'year', 'mega storm', 'storm dropped', 'dropped two', 'two year', 'year rain', 'rain last', 'last number', 'number hour', 'hour fire', 'fire flood', 'flood flood', 'flood mudslide', 'mudslide tearing', 'tearing hood', 'hood cleanup', 'cleanup crew', 'crew dumped', 'dumped mud', 'mud beach', 'beach human', 'human remains', 'remains mud', 'mud dumped', 'dumped beach', 'beach limit', 'limit go', 'go year']\n",
      "\n",
      "{'related': 1, 'request': 0, 'offer': 0, 'aid_related': 1, 'medical_help': 0, 'medical_products': 0, 'search_and_rescue': 0, 'security': 0, 'military': 0, 'child_alone': 0, 'water': 0, 'food': 0, 'shelter': 0, 'clothing': 0, 'money': 0, 'missing_people': 0, 'refugees': 0, 'death': 0, 'other_aid': 0, 'infrastructure_related': 0, 'transport': 0, 'buildings': 1, 'electricity': 0, 'tools': 0, 'hospitals': 0, 'shops': 0, 'aid_centers': 0, 'other_infrastructure': 1, 'weather_related': 1, 'floods': 1, 'storm': 1, 'fire': 0, 'earthquake': 0, 'cold': 0, 'other_weather': 0, 'direct_report': 0}\n",
      "\n"
     ]
    }
   ],
   "source": [
    "ProcessText(test8)"
   ]
  },
  {
   "cell_type": "markdown",
   "metadata": {},
   "source": [
    "#### not related"
   ]
  },
  {
   "cell_type": "code",
   "execution_count": 24,
   "metadata": {},
   "outputs": [],
   "source": [
    "test9 = 'Today was another day of working inside as quarantined from playing outside in the sunshine.'+\\\n",
    "        'Luckily there was a long overdue Udacity project that was near impossible to complete to work on.'"
   ]
  },
  {
   "cell_type": "code",
   "execution_count": 25,
   "metadata": {},
   "outputs": [
    {
     "name": "stdout",
     "output_type": "stream",
     "text": [
      "today was another day of working inside as quarantined from playing outside in the sunshine luckily there was a long overdue audacity project that was near impossible to complete to work on.\n",
      "\n",
      "['today', 'another', 'day', 'working', 'inside', 'quarantined', 'playing', 'outside', 'sunshine', 'luckily', 'long', 'overdue', 'audacity', 'project', 'near', 'impossible', 'complete', 'work', 'today another', 'another day', 'day working', 'working inside', 'inside quarantined', 'quarantined playing', 'playing outside', 'outside sunshine', 'sunshine luckily', 'luckily long', 'long overdue', 'overdue audacity', 'audacity project', 'project near', 'near impossible', 'impossible complete', 'complete work']\n",
      "\n",
      "{'related': 0, 'request': 0, 'offer': 0, 'aid_related': 0, 'medical_help': 0, 'medical_products': 0, 'search_and_rescue': 0, 'security': 0, 'military': 0, 'child_alone': 0, 'water': 0, 'food': 0, 'shelter': 0, 'clothing': 0, 'money': 0, 'missing_people': 0, 'refugees': 0, 'death': 0, 'other_aid': 0, 'infrastructure_related': 0, 'transport': 0, 'buildings': 0, 'electricity': 0, 'tools': 0, 'hospitals': 0, 'shops': 0, 'aid_centers': 0, 'other_infrastructure': 0, 'weather_related': 0, 'floods': 0, 'storm': 0, 'fire': 0, 'earthquake': 0, 'cold': 0, 'other_weather': 0, 'direct_report': 0}\n",
      "\n"
     ]
    }
   ],
   "source": [
    "ProcessText(test9)"
   ]
  },
  {
   "cell_type": "markdown",
   "metadata": {},
   "source": [
    "#### military"
   ]
  },
  {
   "cell_type": "code",
   "execution_count": 26,
   "metadata": {},
   "outputs": [],
   "source": [
    "test10 = 'After heavy investment in military equipment, that power hungry government is ready to battle.'+\\\n",
    "         'Fortunately, its just another hollywood action flick full of tanks, bombs, and guns run amok.'"
   ]
  },
  {
   "cell_type": "code",
   "execution_count": 27,
   "metadata": {},
   "outputs": [
    {
     "name": "stdout",
     "output_type": "stream",
     "text": [
      "after heavy investment in military equipment that power hungry government is ready to battle fortunately its just another hollywood action flick full of tanks bombs and guns run amok.\n",
      "\n",
      "['heavy', 'investment', 'military', 'equipment', 'power', 'hungry', 'government', 'ready', 'battle', 'fortunately', 'another', 'hollywood', 'action', 'flick', 'full', 'tank', 'bomb', 'gun', 'run', 'amok', 'heavy investment', 'investment military', 'military equipment', 'equipment power', 'power hungry', 'hungry government', 'government ready', 'ready battle', 'battle fortunately', 'fortunately another', 'another hollywood', 'hollywood action', 'action flick', 'flick full', 'full tank', 'tank bomb', 'bomb gun', 'gun run', 'run amok']\n",
      "\n",
      "{'related': 1, 'request': 0, 'offer': 0, 'aid_related': 1, 'medical_help': 0, 'medical_products': 0, 'search_and_rescue': 0, 'security': 0, 'military': 1, 'child_alone': 0, 'water': 0, 'food': 0, 'shelter': 0, 'clothing': 0, 'money': 0, 'missing_people': 0, 'refugees': 0, 'death': 0, 'other_aid': 0, 'infrastructure_related': 0, 'transport': 0, 'buildings': 0, 'electricity': 0, 'tools': 0, 'hospitals': 0, 'shops': 0, 'aid_centers': 0, 'other_infrastructure': 0, 'weather_related': 0, 'floods': 0, 'storm': 0, 'fire': 0, 'earthquake': 0, 'cold': 0, 'other_weather': 0, 'direct_report': 0}\n",
      "\n"
     ]
    }
   ],
   "source": [
    "ProcessText(test10)"
   ]
  },
  {
   "cell_type": "code",
   "execution_count": null,
   "metadata": {},
   "outputs": [],
   "source": []
  }
 ],
 "metadata": {
  "kernelspec": {
   "display_name": "Python (datasci)",
   "language": "python",
   "name": "datasci"
  },
  "language_info": {
   "codemirror_mode": {
    "name": "ipython",
    "version": 3
   },
   "file_extension": ".py",
   "mimetype": "text/x-python",
   "name": "python",
   "nbconvert_exporter": "python",
   "pygments_lexer": "ipython3",
   "version": "3.8.5"
  }
 },
 "nbformat": 4,
 "nbformat_minor": 4
}
